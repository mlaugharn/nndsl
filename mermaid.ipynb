{
 "cells": [
  {
   "cell_type": "code",
   "execution_count": 1,
   "metadata": {},
   "outputs": [],
   "source": [
    "from lark import Lark, Transformer\n",
    "with open('grammar.lark', 'r') as f:\n",
    "    grammar = f.read()"
   ]
  },
  {
   "cell_type": "code",
   "execution_count": 2,
   "metadata": {},
   "outputs": [],
   "source": [
    "from rich import print\n",
    "from lark.tree import Tree\n",
    "from lark.visitors import Visitor, Discard\n",
    "from lark.visitors import Interpreter"
   ]
  },
  {
   "cell_type": "code",
   "execution_count": 3,
   "metadata": {},
   "outputs": [],
   "source": [
    "parser = Lark(grammar, parser='lalr')"
   ]
  },
  {
   "cell_type": "code",
   "execution_count": 4,
   "metadata": {},
   "outputs": [],
   "source": [
    "script = \"\"\"\n",
    "graph TB\n",
    "    A_1 --> B_1\n",
    "    B_1 --> C_1[xyz]\n",
    "    C_1 --> D_1\n",
    "\"\"\""
   ]
  },
  {
   "cell_type": "code",
   "execution_count": 5,
   "metadata": {},
   "outputs": [],
   "source": [
    "from lark import ast_utils\n",
    "import sys\n",
    "import dsl_ast\n",
    "dsl_ast_module = sys.modules['dsl_ast']\n"
   ]
  },
  {
   "cell_type": "code",
   "execution_count": 6,
   "metadata": {},
   "outputs": [
    {
     "data": {
      "text/html": [
       "<pre style=\"white-space:pre;overflow-x:auto;line-height:normal;font-family:Menlo,'DejaVu Sans Mono',consolas,'Courier New',monospace\">start\n",
       "└── <span style=\"font-weight: bold\">flowchart</span>\n",
       "    ├── <span style=\"font-weight: bold\">flow_type</span>\n",
       "    └── <span style=\"font-weight: bold\">flow_statements</span>\n",
       "        ├── <span style=\"font-weight: bold\">flow_statement</span>\n",
       "        │   ├── <span style=\"font-weight: bold\">flow_step</span>\n",
       "        │   │   ├── <span style=\"color: #008000; text-decoration-color: #008000\">A</span>\n",
       "        │   │   └── <span style=\"color: #008000; text-decoration-color: #008000\">1</span>\n",
       "        │   ├── <span style=\"color: #008000; text-decoration-color: #008000\">None</span>\n",
       "        │   ├── <span style=\"font-weight: bold\">flow_step</span>\n",
       "        │   │   ├── <span style=\"color: #008000; text-decoration-color: #008000\">B</span>\n",
       "        │   │   └── <span style=\"color: #008000; text-decoration-color: #008000\">1</span>\n",
       "        │   ├── <span style=\"color: #008000; text-decoration-color: #008000\">None</span>\n",
       "        │   └── \n",
       "        │       \n",
       "        ├── <span style=\"font-weight: bold\">flow_statement</span>\n",
       "        │   ├── <span style=\"font-weight: bold\">flow_step</span>\n",
       "        │   │   ├── <span style=\"color: #008000; text-decoration-color: #008000\">B</span>\n",
       "        │   │   └── <span style=\"color: #008000; text-decoration-color: #008000\">1</span>\n",
       "        │   ├── <span style=\"color: #008000; text-decoration-color: #008000\">None</span>\n",
       "        │   ├── <span style=\"font-weight: bold\">flow_step</span>\n",
       "        │   │   ├── <span style=\"color: #008000; text-decoration-color: #008000\">C</span>\n",
       "        │   │   └── <span style=\"color: #008000; text-decoration-color: #008000\">1</span>\n",
       "        │   ├── <span style=\"font-weight: bold\">dst_label</span>\n",
       "        │   │   └── <span style=\"color: #008000; text-decoration-color: #008000\">xyz</span>\n",
       "        │   └── \n",
       "        │       \n",
       "        └── <span style=\"font-weight: bold\">flow_statement</span>\n",
       "            ├── <span style=\"font-weight: bold\">flow_step</span>\n",
       "            │   ├── <span style=\"color: #008000; text-decoration-color: #008000\">C</span>\n",
       "            │   └── <span style=\"color: #008000; text-decoration-color: #008000\">1</span>\n",
       "            ├── <span style=\"color: #008000; text-decoration-color: #008000\">None</span>\n",
       "            ├── <span style=\"font-weight: bold\">flow_step</span>\n",
       "            │   ├── <span style=\"color: #008000; text-decoration-color: #008000\">D</span>\n",
       "            │   └── <span style=\"color: #008000; text-decoration-color: #008000\">1</span>\n",
       "            ├── <span style=\"color: #008000; text-decoration-color: #008000\">None</span>\n",
       "            └── \n",
       "                \n",
       "</pre>\n"
      ],
      "text/plain": [
       "start\n",
       "└── \u001b[1mflowchart\u001b[0m\n",
       "    ├── \u001b[1mflow_type\u001b[0m\n",
       "    └── \u001b[1mflow_statements\u001b[0m\n",
       "        ├── \u001b[1mflow_statement\u001b[0m\n",
       "        │   ├── \u001b[1mflow_step\u001b[0m\n",
       "        │   │   ├── \u001b[32mA\u001b[0m\n",
       "        │   │   └── \u001b[32m1\u001b[0m\n",
       "        │   ├── \u001b[32mNone\u001b[0m\n",
       "        │   ├── \u001b[1mflow_step\u001b[0m\n",
       "        │   │   ├── \u001b[32mB\u001b[0m\n",
       "        │   │   └── \u001b[32m1\u001b[0m\n",
       "        │   ├── \u001b[32mNone\u001b[0m\n",
       "        │   └── \n",
       "        │       \n",
       "        ├── \u001b[1mflow_statement\u001b[0m\n",
       "        │   ├── \u001b[1mflow_step\u001b[0m\n",
       "        │   │   ├── \u001b[32mB\u001b[0m\n",
       "        │   │   └── \u001b[32m1\u001b[0m\n",
       "        │   ├── \u001b[32mNone\u001b[0m\n",
       "        │   ├── \u001b[1mflow_step\u001b[0m\n",
       "        │   │   ├── \u001b[32mC\u001b[0m\n",
       "        │   │   └── \u001b[32m1\u001b[0m\n",
       "        │   ├── \u001b[1mdst_label\u001b[0m\n",
       "        │   │   └── \u001b[32mxyz\u001b[0m\n",
       "        │   └── \n",
       "        │       \n",
       "        └── \u001b[1mflow_statement\u001b[0m\n",
       "            ├── \u001b[1mflow_step\u001b[0m\n",
       "            │   ├── \u001b[32mC\u001b[0m\n",
       "            │   └── \u001b[32m1\u001b[0m\n",
       "            ├── \u001b[32mNone\u001b[0m\n",
       "            ├── \u001b[1mflow_step\u001b[0m\n",
       "            │   ├── \u001b[32mD\u001b[0m\n",
       "            │   └── \u001b[32m1\u001b[0m\n",
       "            ├── \u001b[32mNone\u001b[0m\n",
       "            └── \n",
       "                \n"
      ]
     },
     "metadata": {},
     "output_type": "display_data"
    }
   ],
   "source": [
    "print(parser.parse(script))"
   ]
  },
  {
   "cell_type": "code",
   "execution_count": 7,
   "metadata": {},
   "outputs": [],
   "source": [
    "from dsl_ast import ToAst\n",
    "t = ast_utils.create_transformer(dsl_ast_module, ToAst())"
   ]
  },
  {
   "cell_type": "code",
   "execution_count": 8,
   "metadata": {},
   "outputs": [],
   "source": [
    "a = t.transform(parser.parse(script))"
   ]
  },
  {
   "cell_type": "code",
   "execution_count": 9,
   "metadata": {},
   "outputs": [
    {
     "data": {
      "text/html": [
       "<pre style=\"white-space:pre;overflow-x:auto;line-height:normal;font-family:Menlo,'DejaVu Sans Mono',consolas,'Courier New',monospace\"><span style=\"color: #800080; text-decoration-color: #800080; font-weight: bold\">Flowchart</span><span style=\"font-weight: bold\">(</span>\n",
       "    <span style=\"color: #808000; text-decoration-color: #808000\">meta</span>=<span style=\"font-weight: bold\">&lt;</span><span style=\"color: #ff00ff; text-decoration-color: #ff00ff; font-weight: bold\">lark.tree.Meta</span><span style=\"color: #000000; text-decoration-color: #000000\"> object at </span><span style=\"color: #008080; text-decoration-color: #008080; font-weight: bold\">0x0000020814D5A110</span><span style=\"font-weight: bold\">&gt;</span>,\n",
       "    <span style=\"color: #808000; text-decoration-color: #808000\">flow_type</span>=<span style=\"color: #800080; text-decoration-color: #800080; font-weight: bold\">Tree</span><span style=\"font-weight: bold\">(</span><span style=\"color: #800080; text-decoration-color: #800080; font-weight: bold\">Token</span><span style=\"font-weight: bold\">(</span><span style=\"color: #008000; text-decoration-color: #008000\">'RULE'</span>, <span style=\"color: #008000; text-decoration-color: #008000\">'flow_type'</span><span style=\"font-weight: bold\">)</span>, <span style=\"font-weight: bold\">[])</span>,\n",
       "    <span style=\"color: #808000; text-decoration-color: #808000\">flow_statements</span>=<span style=\"color: #800080; text-decoration-color: #800080; font-weight: bold\">FlowStatements</span><span style=\"font-weight: bold\">(</span>\n",
       "        <span style=\"color: #808000; text-decoration-color: #808000\">statements</span>=<span style=\"font-weight: bold\">[</span>\n",
       "            <span style=\"color: #800080; text-decoration-color: #800080; font-weight: bold\">FlowStatement</span><span style=\"font-weight: bold\">(</span>\n",
       "                <span style=\"color: #808000; text-decoration-color: #808000\">src</span>=<span style=\"color: #800080; text-decoration-color: #800080; font-weight: bold\">FlowStep</span><span style=\"font-weight: bold\">(</span><span style=\"color: #808000; text-decoration-color: #808000\">var</span>=<span style=\"color: #800080; text-decoration-color: #800080; font-weight: bold\">Token</span><span style=\"font-weight: bold\">(</span><span style=\"color: #008000; text-decoration-color: #008000\">'__ANON_1'</span>, <span style=\"color: #008000; text-decoration-color: #008000\">'A'</span><span style=\"font-weight: bold\">)</span>, <span style=\"color: #808000; text-decoration-color: #808000\">num</span>=<span style=\"color: #800080; text-decoration-color: #800080; font-weight: bold\">Token</span><span style=\"font-weight: bold\">(</span><span style=\"color: #008000; text-decoration-color: #008000\">'INT'</span>, <span style=\"color: #008080; text-decoration-color: #008080; font-weight: bold\">1</span><span style=\"font-weight: bold\">))</span>,\n",
       "                <span style=\"color: #808000; text-decoration-color: #808000\">slabel</span>=<span style=\"color: #800080; text-decoration-color: #800080; font-style: italic\">None</span>,\n",
       "                <span style=\"color: #808000; text-decoration-color: #808000\">dst</span>=<span style=\"color: #800080; text-decoration-color: #800080; font-weight: bold\">FlowStep</span><span style=\"font-weight: bold\">(</span><span style=\"color: #808000; text-decoration-color: #808000\">var</span>=<span style=\"color: #800080; text-decoration-color: #800080; font-weight: bold\">Token</span><span style=\"font-weight: bold\">(</span><span style=\"color: #008000; text-decoration-color: #008000\">'__ANON_1'</span>, <span style=\"color: #008000; text-decoration-color: #008000\">'B'</span><span style=\"font-weight: bold\">)</span>, <span style=\"color: #808000; text-decoration-color: #808000\">num</span>=<span style=\"color: #800080; text-decoration-color: #800080; font-weight: bold\">Token</span><span style=\"font-weight: bold\">(</span><span style=\"color: #008000; text-decoration-color: #008000\">'INT'</span>, <span style=\"color: #008080; text-decoration-color: #008080; font-weight: bold\">1</span><span style=\"font-weight: bold\">))</span>,\n",
       "                <span style=\"color: #808000; text-decoration-color: #808000\">dlabel</span>=<span style=\"color: #800080; text-decoration-color: #800080; font-style: italic\">None</span>\n",
       "            <span style=\"font-weight: bold\">)</span>,\n",
       "            <span style=\"color: #800080; text-decoration-color: #800080; font-weight: bold\">FlowStatement</span><span style=\"font-weight: bold\">(</span>\n",
       "                <span style=\"color: #808000; text-decoration-color: #808000\">src</span>=<span style=\"color: #800080; text-decoration-color: #800080; font-weight: bold\">FlowStep</span><span style=\"font-weight: bold\">(</span><span style=\"color: #808000; text-decoration-color: #808000\">var</span>=<span style=\"color: #800080; text-decoration-color: #800080; font-weight: bold\">Token</span><span style=\"font-weight: bold\">(</span><span style=\"color: #008000; text-decoration-color: #008000\">'__ANON_1'</span>, <span style=\"color: #008000; text-decoration-color: #008000\">'B'</span><span style=\"font-weight: bold\">)</span>, <span style=\"color: #808000; text-decoration-color: #808000\">num</span>=<span style=\"color: #800080; text-decoration-color: #800080; font-weight: bold\">Token</span><span style=\"font-weight: bold\">(</span><span style=\"color: #008000; text-decoration-color: #008000\">'INT'</span>, <span style=\"color: #008080; text-decoration-color: #008080; font-weight: bold\">1</span><span style=\"font-weight: bold\">))</span>,\n",
       "                <span style=\"color: #808000; text-decoration-color: #808000\">slabel</span>=<span style=\"color: #800080; text-decoration-color: #800080; font-style: italic\">None</span>,\n",
       "                <span style=\"color: #808000; text-decoration-color: #808000\">dst</span>=<span style=\"color: #800080; text-decoration-color: #800080; font-weight: bold\">FlowStep</span><span style=\"font-weight: bold\">(</span><span style=\"color: #808000; text-decoration-color: #808000\">var</span>=<span style=\"color: #800080; text-decoration-color: #800080; font-weight: bold\">Token</span><span style=\"font-weight: bold\">(</span><span style=\"color: #008000; text-decoration-color: #008000\">'__ANON_1'</span>, <span style=\"color: #008000; text-decoration-color: #008000\">'C'</span><span style=\"font-weight: bold\">)</span>, <span style=\"color: #808000; text-decoration-color: #808000\">num</span>=<span style=\"color: #800080; text-decoration-color: #800080; font-weight: bold\">Token</span><span style=\"font-weight: bold\">(</span><span style=\"color: #008000; text-decoration-color: #008000\">'INT'</span>, <span style=\"color: #008080; text-decoration-color: #008080; font-weight: bold\">1</span><span style=\"font-weight: bold\">))</span>,\n",
       "                <span style=\"color: #808000; text-decoration-color: #808000\">dlabel</span>=<span style=\"color: #800080; text-decoration-color: #800080; font-weight: bold\">DstLabel</span><span style=\"font-weight: bold\">(</span><span style=\"color: #808000; text-decoration-color: #808000\">label</span>=<span style=\"color: #800080; text-decoration-color: #800080; font-weight: bold\">Token</span><span style=\"font-weight: bold\">(</span><span style=\"color: #008000; text-decoration-color: #008000\">'__ANON_2'</span>, <span style=\"color: #008000; text-decoration-color: #008000\">'xyz'</span><span style=\"font-weight: bold\">))</span>\n",
       "            <span style=\"font-weight: bold\">)</span>,\n",
       "            <span style=\"color: #800080; text-decoration-color: #800080; font-weight: bold\">FlowStatement</span><span style=\"font-weight: bold\">(</span>\n",
       "                <span style=\"color: #808000; text-decoration-color: #808000\">src</span>=<span style=\"color: #800080; text-decoration-color: #800080; font-weight: bold\">FlowStep</span><span style=\"font-weight: bold\">(</span><span style=\"color: #808000; text-decoration-color: #808000\">var</span>=<span style=\"color: #800080; text-decoration-color: #800080; font-weight: bold\">Token</span><span style=\"font-weight: bold\">(</span><span style=\"color: #008000; text-decoration-color: #008000\">'__ANON_1'</span>, <span style=\"color: #008000; text-decoration-color: #008000\">'C'</span><span style=\"font-weight: bold\">)</span>, <span style=\"color: #808000; text-decoration-color: #808000\">num</span>=<span style=\"color: #800080; text-decoration-color: #800080; font-weight: bold\">Token</span><span style=\"font-weight: bold\">(</span><span style=\"color: #008000; text-decoration-color: #008000\">'INT'</span>, <span style=\"color: #008080; text-decoration-color: #008080; font-weight: bold\">1</span><span style=\"font-weight: bold\">))</span>,\n",
       "                <span style=\"color: #808000; text-decoration-color: #808000\">slabel</span>=<span style=\"color: #800080; text-decoration-color: #800080; font-style: italic\">None</span>,\n",
       "                <span style=\"color: #808000; text-decoration-color: #808000\">dst</span>=<span style=\"color: #800080; text-decoration-color: #800080; font-weight: bold\">FlowStep</span><span style=\"font-weight: bold\">(</span><span style=\"color: #808000; text-decoration-color: #808000\">var</span>=<span style=\"color: #800080; text-decoration-color: #800080; font-weight: bold\">Token</span><span style=\"font-weight: bold\">(</span><span style=\"color: #008000; text-decoration-color: #008000\">'__ANON_1'</span>, <span style=\"color: #008000; text-decoration-color: #008000\">'D'</span><span style=\"font-weight: bold\">)</span>, <span style=\"color: #808000; text-decoration-color: #808000\">num</span>=<span style=\"color: #800080; text-decoration-color: #800080; font-weight: bold\">Token</span><span style=\"font-weight: bold\">(</span><span style=\"color: #008000; text-decoration-color: #008000\">'INT'</span>, <span style=\"color: #008080; text-decoration-color: #008080; font-weight: bold\">1</span><span style=\"font-weight: bold\">))</span>,\n",
       "                <span style=\"color: #808000; text-decoration-color: #808000\">dlabel</span>=<span style=\"color: #800080; text-decoration-color: #800080; font-style: italic\">None</span>\n",
       "            <span style=\"font-weight: bold\">)</span>\n",
       "        <span style=\"font-weight: bold\">]</span>\n",
       "    <span style=\"font-weight: bold\">)</span>\n",
       "<span style=\"font-weight: bold\">)</span>\n",
       "</pre>\n"
      ],
      "text/plain": [
       "\u001b[1;35mFlowchart\u001b[0m\u001b[1m(\u001b[0m\n",
       "    \u001b[33mmeta\u001b[0m=\u001b[1m<\u001b[0m\u001b[1;95mlark.tree.Meta\u001b[0m\u001b[39m object at \u001b[0m\u001b[1;36m0x0000020814D5A110\u001b[0m\u001b[1m>\u001b[0m,\n",
       "    \u001b[33mflow_type\u001b[0m=\u001b[1;35mTree\u001b[0m\u001b[1m(\u001b[0m\u001b[1;35mToken\u001b[0m\u001b[1m(\u001b[0m\u001b[32m'RULE'\u001b[0m, \u001b[32m'flow_type'\u001b[0m\u001b[1m)\u001b[0m, \u001b[1m[\u001b[0m\u001b[1m]\u001b[0m\u001b[1m)\u001b[0m,\n",
       "    \u001b[33mflow_statements\u001b[0m=\u001b[1;35mFlowStatements\u001b[0m\u001b[1m(\u001b[0m\n",
       "        \u001b[33mstatements\u001b[0m=\u001b[1m[\u001b[0m\n",
       "            \u001b[1;35mFlowStatement\u001b[0m\u001b[1m(\u001b[0m\n",
       "                \u001b[33msrc\u001b[0m=\u001b[1;35mFlowStep\u001b[0m\u001b[1m(\u001b[0m\u001b[33mvar\u001b[0m=\u001b[1;35mToken\u001b[0m\u001b[1m(\u001b[0m\u001b[32m'__ANON_1'\u001b[0m, \u001b[32m'A'\u001b[0m\u001b[1m)\u001b[0m, \u001b[33mnum\u001b[0m=\u001b[1;35mToken\u001b[0m\u001b[1m(\u001b[0m\u001b[32m'INT'\u001b[0m, \u001b[1;36m1\u001b[0m\u001b[1m)\u001b[0m\u001b[1m)\u001b[0m,\n",
       "                \u001b[33mslabel\u001b[0m=\u001b[3;35mNone\u001b[0m,\n",
       "                \u001b[33mdst\u001b[0m=\u001b[1;35mFlowStep\u001b[0m\u001b[1m(\u001b[0m\u001b[33mvar\u001b[0m=\u001b[1;35mToken\u001b[0m\u001b[1m(\u001b[0m\u001b[32m'__ANON_1'\u001b[0m, \u001b[32m'B'\u001b[0m\u001b[1m)\u001b[0m, \u001b[33mnum\u001b[0m=\u001b[1;35mToken\u001b[0m\u001b[1m(\u001b[0m\u001b[32m'INT'\u001b[0m, \u001b[1;36m1\u001b[0m\u001b[1m)\u001b[0m\u001b[1m)\u001b[0m,\n",
       "                \u001b[33mdlabel\u001b[0m=\u001b[3;35mNone\u001b[0m\n",
       "            \u001b[1m)\u001b[0m,\n",
       "            \u001b[1;35mFlowStatement\u001b[0m\u001b[1m(\u001b[0m\n",
       "                \u001b[33msrc\u001b[0m=\u001b[1;35mFlowStep\u001b[0m\u001b[1m(\u001b[0m\u001b[33mvar\u001b[0m=\u001b[1;35mToken\u001b[0m\u001b[1m(\u001b[0m\u001b[32m'__ANON_1'\u001b[0m, \u001b[32m'B'\u001b[0m\u001b[1m)\u001b[0m, \u001b[33mnum\u001b[0m=\u001b[1;35mToken\u001b[0m\u001b[1m(\u001b[0m\u001b[32m'INT'\u001b[0m, \u001b[1;36m1\u001b[0m\u001b[1m)\u001b[0m\u001b[1m)\u001b[0m,\n",
       "                \u001b[33mslabel\u001b[0m=\u001b[3;35mNone\u001b[0m,\n",
       "                \u001b[33mdst\u001b[0m=\u001b[1;35mFlowStep\u001b[0m\u001b[1m(\u001b[0m\u001b[33mvar\u001b[0m=\u001b[1;35mToken\u001b[0m\u001b[1m(\u001b[0m\u001b[32m'__ANON_1'\u001b[0m, \u001b[32m'C'\u001b[0m\u001b[1m)\u001b[0m, \u001b[33mnum\u001b[0m=\u001b[1;35mToken\u001b[0m\u001b[1m(\u001b[0m\u001b[32m'INT'\u001b[0m, \u001b[1;36m1\u001b[0m\u001b[1m)\u001b[0m\u001b[1m)\u001b[0m,\n",
       "                \u001b[33mdlabel\u001b[0m=\u001b[1;35mDstLabel\u001b[0m\u001b[1m(\u001b[0m\u001b[33mlabel\u001b[0m=\u001b[1;35mToken\u001b[0m\u001b[1m(\u001b[0m\u001b[32m'__ANON_2'\u001b[0m, \u001b[32m'xyz'\u001b[0m\u001b[1m)\u001b[0m\u001b[1m)\u001b[0m\n",
       "            \u001b[1m)\u001b[0m,\n",
       "            \u001b[1;35mFlowStatement\u001b[0m\u001b[1m(\u001b[0m\n",
       "                \u001b[33msrc\u001b[0m=\u001b[1;35mFlowStep\u001b[0m\u001b[1m(\u001b[0m\u001b[33mvar\u001b[0m=\u001b[1;35mToken\u001b[0m\u001b[1m(\u001b[0m\u001b[32m'__ANON_1'\u001b[0m, \u001b[32m'C'\u001b[0m\u001b[1m)\u001b[0m, \u001b[33mnum\u001b[0m=\u001b[1;35mToken\u001b[0m\u001b[1m(\u001b[0m\u001b[32m'INT'\u001b[0m, \u001b[1;36m1\u001b[0m\u001b[1m)\u001b[0m\u001b[1m)\u001b[0m,\n",
       "                \u001b[33mslabel\u001b[0m=\u001b[3;35mNone\u001b[0m,\n",
       "                \u001b[33mdst\u001b[0m=\u001b[1;35mFlowStep\u001b[0m\u001b[1m(\u001b[0m\u001b[33mvar\u001b[0m=\u001b[1;35mToken\u001b[0m\u001b[1m(\u001b[0m\u001b[32m'__ANON_1'\u001b[0m, \u001b[32m'D'\u001b[0m\u001b[1m)\u001b[0m, \u001b[33mnum\u001b[0m=\u001b[1;35mToken\u001b[0m\u001b[1m(\u001b[0m\u001b[32m'INT'\u001b[0m, \u001b[1;36m1\u001b[0m\u001b[1m)\u001b[0m\u001b[1m)\u001b[0m,\n",
       "                \u001b[33mdlabel\u001b[0m=\u001b[3;35mNone\u001b[0m\n",
       "            \u001b[1m)\u001b[0m\n",
       "        \u001b[1m]\u001b[0m\n",
       "    \u001b[1m)\u001b[0m\n",
       "\u001b[1m)\u001b[0m\n"
      ]
     },
     "metadata": {},
     "output_type": "display_data"
    }
   ],
   "source": [
    "print(a)"
   ]
  },
  {
   "cell_type": "code",
   "execution_count": 10,
   "metadata": {},
   "outputs": [],
   "source": [
    "import networkx as nx\n",
    "import matplotlib.pyplot as plt\n",
    "\n",
    "def visualize_ast(ast):\n",
    "    G = nx.DiGraph()\n",
    "    for flow_statement in ast.flow_statements.statements:\n",
    "        s = (flow_statement.src.var.value, flow_statement.src.num.value)\n",
    "        d = (flow_statement.dst.var.value, flow_statement.src.num.value)\n",
    "        G.add_edge(s, d)\n",
    "        \n",
    "    return G"
   ]
  },
  {
   "cell_type": "code",
   "execution_count": 11,
   "metadata": {},
   "outputs": [
    {
     "data": {
      "image/png": "[encoded data removed]",
      "text/plain": [
       "<Figure size 432x288 with 1 Axes>"
      ]
     },
     "metadata": {},
     "output_type": "display_data"
    }
   ],
   "source": [
    "def show_graph(ast):\n",
    "    G = visualize_ast(ast)\n",
    "    pos = nx.spring_layout(G)\n",
    "    nx.draw(G, pos, with_labels=True)\n",
    "    labels = nx.get_edge_attributes(G, 'label')\n",
    "    nx.draw_networkx_edge_labels(G, pos, edge_labels=labels)\n",
    "    plt.show()\n",
    "\n",
    "\n",
    "ast = t.transform(parser.parse(script))\n",
    "show_graph(ast)"
   ]
  },
  {
   "cell_type": "code",
   "execution_count": 12,
   "metadata": {},
   "outputs": [],
   "source": [
    "from interpret import mk_compact, inc_compact, DslInterpreter"
   ]
  },
  {
   "cell_type": "code",
   "execution_count": 13,
   "metadata": {},
   "outputs": [
    {
     "data": {
      "text/plain": [
       "[(('A', 1), ('B', 1)), (('B', 1), ('C', 1)), (('C', 1), ('D', 1))]"
      ]
     },
     "execution_count": 13,
     "metadata": {},
     "output_type": "execute_result"
    }
   ],
   "source": [
    "mk_compact(a)"
   ]
  },
  {
   "cell_type": "code",
   "execution_count": 14,
   "metadata": {},
   "outputs": [
    {
     "data": {
      "text/plain": [
       "[(('A', 2), ('B', 2)), (('B', 2), ('C', 2)), (('C', 2), ('D', 2))]"
      ]
     },
     "execution_count": 14,
     "metadata": {},
     "output_type": "execute_result"
    }
   ],
   "source": [
    "inc_compact(mk_compact(a))"
   ]
  },
  {
   "attachments": {},
   "cell_type": "markdown",
   "metadata": {},
   "source": [
    "unet!\n",
    "\n",
    "![unet architecture](docs/u-net-architecture.png)\n",
    "\n",
    "base case:\n",
    "\n",
    "```a1 ---f1---> b1```\n",
    "\n",
    "inductive step:\n",
    "\n",
    "```\n",
    "a1 -------f1------ > b1\n",
    "\\                   ^\n",
    " \\ g1            j1/\n",
    "  \\>a2 ---f2--> b2/\n",
    "```\n",
    "\n",
    "to apply again, increment all numbers by 1 and repeat inductive step\n",
    "\n",
    "e.g. depth 3:\n",
    "```\n",
    "a1 ----f1---- b1\n",
    "\\g1          /j1\n",
    " a2 ---f2---b2\n",
    "  \\g2      /j2\n",
    "   a3--f3--b3\n",
    "```"
   ]
  },
  {
   "cell_type": "code",
   "execution_count": null,
   "metadata": {},
   "outputs": [],
   "source": []
  },
  {
   "attachments": {},
   "cell_type": "markdown",
   "metadata": {},
   "source": [
    "as mermaid:\n",
    "\n",
    "```mermaid:\n",
    "graph TB\n",
    "    A_1 --> F_1\n",
    "    F_1 --> B_1\n",
    "```"
   ]
  },
  {
   "cell_type": "code",
   "execution_count": 16,
   "metadata": {},
   "outputs": [],
   "source": [
    "\n",
    "unet_4 = DslInterpreter().apply(first_script=\"\"\"\n",
    "graph TB\n",
    "    A_1 --> F_1\n",
    "    F_1 --> B_1\n",
    "\"\"\", then_script=\"\"\"\n",
    "graph TB\n",
    "    A_1 --> G_1\n",
    "    G_1 --> A_2\n",
    "    A_2 --> F_2\n",
    "    F_2 --> B_2\n",
    "    B_2 --> J_1\n",
    "    J_1 --> B_1\n",
    "\"\"\",\n",
    "times=4)"
   ]
  },
  {
   "cell_type": "code",
   "execution_count": 17,
   "metadata": {},
   "outputs": [],
   "source": [
    "G = nx.DiGraph()\n",
    "for statement in unet_4:\n",
    "    G.add_edge(statement[0], statement[1])\n",
    "G.add_edge(\"in\", (\"A\", 1))\n",
    "G.add_edge((\"B\", 1), \"out\")"
   ]
  },
  {
   "cell_type": "code",
   "execution_count": 18,
   "metadata": {},
   "outputs": [
    {
     "data": {
      "text/plain": [
       "NodeDataView({('A', 1): {}, ('F', 1): {}, ('B', 1): {}, ('G', 1): {}, ('A', 2): {}, ('F', 2): {}, ('B', 2): {}, ('J', 1): {}, ('G', 2): {}, ('A', 3): {}, ('F', 3): {}, ('B', 3): {}, ('J', 2): {}, ('G', 3): {}, ('A', 4): {}, ('F', 4): {}, ('B', 4): {}, ('J', 3): {}, ('G', 4): {}, ('A', 5): {}, ('F', 5): {}, ('B', 5): {}, ('J', 4): {}, 'in': {}, 'out': {}})"
      ]
     },
     "execution_count": 18,
     "metadata": {},
     "output_type": "execute_result"
    }
   ],
   "source": [
    "G.nodes(data=True)"
   ]
  },
  {
   "cell_type": "code",
   "execution_count": 19,
   "metadata": {},
   "outputs": [
    {
     "data": {
      "image/png": "[encoded data removed]",
      "text/plain": [
       "<Figure size 432x288 with 1 Axes>"
      ]
     },
     "metadata": {},
     "output_type": "display_data"
    }
   ],
   "source": [
    "# pos = nx.multipartite_layout(G)\n",
    "pos = nx.kamada_kawai_layout(G)\n",
    "nx.draw(G, pos, with_labels=True)\n",
    "labels = nx.get_edge_attributes(G, 'label')\n",
    "nx.draw_networkx_edge_labels(G, pos, edge_labels=labels)\n",
    "plt.title(\"unet of depth 4\")\n",
    "plt.show()"
   ]
  },
  {
   "attachments": {},
   "cell_type": "markdown",
   "metadata": {},
   "source": [
    "beautiful!"
   ]
  },
  {
   "cell_type": "code",
   "execution_count": 20,
   "metadata": {},
   "outputs": [
    {
     "data": {
      "text/plain": [
       "{('A', 1): {('F', 1): {}, ('G', 1): {}},\n",
       " ('F', 1): {('B', 1): {}},\n",
       " ('B', 1): {'out': {}},\n",
       " ('G', 1): {('A', 2): {}},\n",
       " ('A', 2): {('F', 2): {}, ('G', 2): {}},\n",
       " ('F', 2): {('B', 2): {}},\n",
       " ('B', 2): {('J', 1): {}},\n",
       " ('J', 1): {('B', 1): {}},\n",
       " ('G', 2): {('A', 3): {}},\n",
       " ('A', 3): {('F', 3): {}, ('G', 3): {}},\n",
       " ('F', 3): {('B', 3): {}},\n",
       " ('B', 3): {('J', 2): {}},\n",
       " ('J', 2): {('B', 2): {}},\n",
       " ('G', 3): {('A', 4): {}},\n",
       " ('A', 4): {('F', 4): {}, ('G', 4): {}},\n",
       " ('F', 4): {('B', 4): {}},\n",
       " ('B', 4): {('J', 3): {}},\n",
       " ('J', 3): {('B', 3): {}},\n",
       " ('G', 4): {('A', 5): {}},\n",
       " ('A', 5): {('F', 5): {}},\n",
       " ('F', 5): {('B', 5): {}},\n",
       " ('B', 5): {('J', 4): {}},\n",
       " ('J', 4): {('B', 4): {}},\n",
       " 'in': {('A', 1): {}},\n",
       " 'out': {}}"
      ]
     },
     "execution_count": 20,
     "metadata": {},
     "output_type": "execute_result"
    }
   ],
   "source": [
    "nx.to_dict_of_dicts(G)"
   ]
  },
  {
   "cell_type": "code",
   "execution_count": 21,
   "metadata": {},
   "outputs": [],
   "source": [
    "from graphlib import TopologicalSorter"
   ]
  },
  {
   "cell_type": "code",
   "execution_count": 22,
   "metadata": {},
   "outputs": [
    {
     "data": {
      "text/plain": [
       "['out',\n",
       " ('B', 1),\n",
       " ('F', 1),\n",
       " ('J', 1),\n",
       " ('B', 2),\n",
       " ('F', 2),\n",
       " ('J', 2),\n",
       " ('B', 3),\n",
       " ('F', 3),\n",
       " ('J', 3),\n",
       " ('B', 4),\n",
       " ('F', 4),\n",
       " ('J', 4),\n",
       " ('B', 5),\n",
       " ('F', 5),\n",
       " ('A', 5),\n",
       " ('G', 4),\n",
       " ('A', 4),\n",
       " ('G', 3),\n",
       " ('A', 3),\n",
       " ('G', 2),\n",
       " ('A', 2),\n",
       " ('G', 1),\n",
       " ('A', 1),\n",
       " 'in']"
      ]
     },
     "execution_count": 22,
     "metadata": {},
     "output_type": "execute_result"
    }
   ],
   "source": [
    "list(TopologicalSorter(nx.to_dict_of_dicts(G)).static_order())"
   ]
  },
  {
   "cell_type": "code",
   "execution_count": 23,
   "metadata": {},
   "outputs": [
    {
     "data": {
      "text/plain": [
       "{('A', 1): [('F', 1), ('G', 1)],\n",
       " ('F', 1): [('B', 1)],\n",
       " ('B', 1): ['out'],\n",
       " ('G', 1): [('A', 2)],\n",
       " ('A', 2): [('F', 2), ('G', 2)],\n",
       " ('F', 2): [('B', 2)],\n",
       " ('B', 2): [('J', 1)],\n",
       " ('J', 1): [('B', 1)],\n",
       " ('G', 2): [('A', 3)],\n",
       " ('A', 3): [('F', 3), ('G', 3)],\n",
       " ('F', 3): [('B', 3)],\n",
       " ('B', 3): [('J', 2)],\n",
       " ('J', 2): [('B', 2)],\n",
       " ('G', 3): [('A', 4)],\n",
       " ('A', 4): [('F', 4), ('G', 4)],\n",
       " ('F', 4): [('B', 4)],\n",
       " ('B', 4): [('J', 3)],\n",
       " ('J', 3): [('B', 3)],\n",
       " ('G', 4): [('A', 5)],\n",
       " ('A', 5): [('F', 5)],\n",
       " ('F', 5): [('B', 5)],\n",
       " ('B', 5): [('J', 4)],\n",
       " ('J', 4): [('B', 4)],\n",
       " 'in': [('A', 1)],\n",
       " 'out': []}"
      ]
     },
     "execution_count": 23,
     "metadata": {},
     "output_type": "execute_result"
    }
   ],
   "source": [
    "nx.to_dict_of_lists(G)"
   ]
  },
  {
   "cell_type": "code",
   "execution_count": 24,
   "metadata": {},
   "outputs": [
    {
     "data": {
      "text/plain": [
       "{('A', 1): ['in'],\n",
       " ('F', 1): [('A', 1)],\n",
       " ('B', 1): [('F', 1), ('J', 1)],\n",
       " ('G', 1): [('A', 1)],\n",
       " ('A', 2): [('G', 1)],\n",
       " ('F', 2): [('A', 2)],\n",
       " ('B', 2): [('F', 2), ('J', 2)],\n",
       " ('J', 1): [('B', 2)],\n",
       " ('G', 2): [('A', 2)],\n",
       " ('A', 3): [('G', 2)],\n",
       " ('F', 3): [('A', 3)],\n",
       " ('B', 3): [('F', 3), ('J', 3)],\n",
       " ('J', 2): [('B', 3)],\n",
       " ('G', 3): [('A', 3)],\n",
       " ('A', 4): [('G', 3)],\n",
       " ('F', 4): [('A', 4)],\n",
       " ('B', 4): [('F', 4), ('J', 4)],\n",
       " ('J', 3): [('B', 4)],\n",
       " ('G', 4): [('A', 4)],\n",
       " ('A', 5): [('G', 4)],\n",
       " ('F', 5): [('A', 5)],\n",
       " ('B', 5): [('F', 5)],\n",
       " ('J', 4): [('B', 5)],\n",
       " 'in': [],\n",
       " 'out': [('B', 1)]}"
      ]
     },
     "execution_count": 24,
     "metadata": {},
     "output_type": "execute_result"
    }
   ],
   "source": [
    "nx.to_dict_of_lists(G.reverse())"
   ]
  },
  {
   "cell_type": "code",
   "execution_count": 25,
   "metadata": {},
   "outputs": [
    {
     "data": {
      "text/plain": [
       "['in',\n",
       " ('A', 1),\n",
       " ('F', 1),\n",
       " ('G', 1),\n",
       " ('A', 2),\n",
       " ('F', 2),\n",
       " ('G', 2),\n",
       " ('A', 3),\n",
       " ('F', 3),\n",
       " ('G', 3),\n",
       " ('A', 4),\n",
       " ('F', 4),\n",
       " ('G', 4),\n",
       " ('A', 5),\n",
       " ('F', 5),\n",
       " ('B', 5),\n",
       " ('J', 4),\n",
       " ('B', 4),\n",
       " ('J', 3),\n",
       " ('B', 3),\n",
       " ('J', 2),\n",
       " ('B', 2),\n",
       " ('J', 1),\n",
       " ('B', 1),\n",
       " 'out']"
      ]
     },
     "execution_count": 25,
     "metadata": {},
     "output_type": "execute_result"
    }
   ],
   "source": [
    "list(TopologicalSorter(nx.to_dict_of_dicts(G.reverse())).static_order())"
   ]
  },
  {
   "cell_type": "code",
   "execution_count": 29,
   "metadata": {},
   "outputs": [],
   "source": [
    "import torch\n",
    "from typing import Callable, Any\n",
    "\n",
    "module_var = str\n",
    "module_constructor = Callable[[int], torch.nn.Module]\n",
    "\n",
    "def mk_net(\n",
    "    G: nx.DiGraph, \n",
    "    constructors: dict[module_var, module_constructor], \n",
    "    forwards: dict[module_var, Callable[[Any], Any]]\n",
    "    ):\n",
    "    top_sort = list(TopologicalSorter(nx.to_dict_of_dicts(G)).static_order())[::-1]\n",
    "    module = torch.nn.Module()\n",
    "    for (var, num) in top_sort:\n",
    "        name = f\"{var}_{num}\"\n",
    "        node = constructors[var](num)\n",
    "        setattr(module, name, node)\n",
    "    return module\n",
    "\n",
    "    \n",
    "def mk_forward(G: nx.DiGraph, module):\n",
    "    order = list(TopologicalSorter(nx.to_dict_of_dicts(G.reverse())).static_order())\n",
    "    state = {'in': torch.nn.Identity(), 'out': torch.nn.Identity()}\n",
    "    # todo...\n",
    "    \n",
    "    "
   ]
  }
 ],
 "metadata": {
  "kernelspec": {
   "display_name": "Python 3",
   "language": "python",
   "name": "python3"
  },
  "language_info": {
   "codemirror_mode": {
    "name": "ipython",
    "version": 3
   },
   "file_extension": ".py",
   "mimetype": "text/x-python",
   "name": "python",
   "nbconvert_exporter": "python",
   "pygments_lexer": "ipython3",
   "version": "3.10.4"
  },
  "orig_nbformat": 4,
  "vscode": {
   "interpreter": {
    "hash": "8312014e86df00b2d9af7f0013af46400739f6c716e8a8209e763e9047e2958e"
   }
  }
 },
 "nbformat": 4,
 "nbformat_minor": 2
}
